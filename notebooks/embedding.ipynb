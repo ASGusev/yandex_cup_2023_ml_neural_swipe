{
 "cells": [
  {
   "cell_type": "code",
   "execution_count": null,
   "id": "f364edc7-a5d5-4664-b840-a77b17135ef9",
   "metadata": {},
   "outputs": [],
   "source": [
    "%cd .."
   ]
  },
  {
   "cell_type": "code",
   "execution_count": null,
   "id": "c26de62f-0c9f-4d46-8f9e-3083f8235fe6",
   "metadata": {},
   "outputs": [],
   "source": [
    "import sys\n",
    "\n",
    "sys.path.extend(('src', 'lib'))"
   ]
  },
  {
   "cell_type": "code",
   "execution_count": null,
   "id": "0d4b8908-dbc4-4ff1-afa6-94a3e78dee40",
   "metadata": {},
   "outputs": [],
   "source": [
    "from pathlib import Path\n",
    "from importlib import reload\n",
    "import csv\n",
    "import math\n",
    "import itertools\n",
    "\n",
    "import numpy as np\n",
    "import torch\n",
    "from tqdm.auto import tqdm\n",
    "import voyager\n",
    "import cv2\n",
    "from matplotlib import pyplot as plt\n",
    "from pytorch_metric_learning import losses\n",
    "\n",
    "import voc, fcom\n",
    "import data, utils, predictors, embedding, embedding_img"
   ]
  },
  {
   "cell_type": "code",
   "execution_count": null,
   "id": "a1b8d275-85f8-42a4-bf86-ef079ec180a4",
   "metadata": {},
   "outputs": [],
   "source": [
    "data_dir = Path('data')\n",
    "models_dir = Path('models')\n",
    "embeddings_dir = Path('voc_embeddings')"
   ]
  },
  {
   "cell_type": "code",
   "execution_count": null,
   "id": "82625242-b817-4290-8430-09513c6f791e",
   "metadata": {},
   "outputs": [],
   "source": [
    "train_ds = data.Dataset(\n",
    "    data.BinaryDataset.load('data/train.npz'),\n",
    "    data.read_words(data_dir / 'train.ref'),\n",
    ")\n",
    "val_ds = data.Dataset(\n",
    "    data.BinaryDataset.load('data/valid.npz'),\n",
    "    data.read_words(data_dir / 'valid.ref'),\n",
    ")\n",
    "val_500_ds = data.Dataset(\n",
    "    data.BinaryDataset.load(data_dir / 'valid_500.npz'),\n",
    "    data.read_words(data_dir / 'valid_500.ref'),\n",
    ")\n",
    "\n",
    "vocabulary = utils.Vocabulary.load(data_dir / 'vocabulary.csv')\n",
    "keyboard_grids = utils.load_grids(data_dir / 'grids.json')"
   ]
  },
  {
   "cell_type": "code",
   "execution_count": null,
   "id": "717be051-5d4e-46ca-a406-3d897d8f7d3d",
   "metadata": {},
   "outputs": [],
   "source": [
    "preprocessor = embedding.SeqPreprocessor(keyboard_grids, vocabulary)\n",
    "train_pair_ds = embedding.TargetPairDataset(train_ds, vocabulary, preprocessor, 500)\n",
    "val_pair_ds = embedding.TargetPairDataset(val_ds, vocabulary, preprocessor, 500)\n",
    "val_500_pair_ds = embedding.TargetPairDataset(val_500_ds, vocabulary, preprocessor, 500)"
   ]
  },
  {
   "cell_type": "code",
   "execution_count": null,
   "id": "16b688a0-12d1-4b90-a48d-c4d63317eb24",
   "metadata": {},
   "outputs": [],
   "source": [
    "reload(data)\n",
    "reload(utils)\n",
    "reload(embedding)"
   ]
  },
  {
   "cell_type": "code",
   "execution_count": null,
   "id": "96652d72-1074-4a4f-81ce-8d3d9ccde93b",
   "metadata": {},
   "outputs": [],
   "source": [
    "torch.manual_seed(42)\n",
    "np.random.seed(42)\n",
    "model_name = 'emb_tf_v0_best'\n",
    "model_path = models_dir / f'{model_name}.pt'\n",
    "model = embedding.TransformerEmbedder(emb_dim=64, n_heads=4, n_layers=4).cuda()\n",
    "opt = torch.optim.Adam(model.parameters(), lr=8e-5)\n",
    "scheduler = torch.optim.lr_scheduler.StepLR(opt, 10, .5, verbose=True)"
   ]
  },
  {
   "cell_type": "code",
   "execution_count": null,
   "id": "a803f69c-e299-4424-a868-8605d8843051",
   "metadata": {
    "scrolled": true,
    "tags": []
   },
   "outputs": [],
   "source": [
    "embedding.train(\n",
    "    model, opt, scheduler,\n",
    "    train_pair_ds, val_pair_ds, \n",
    "    100, 100, \n",
    "    losses.ContrastiveLoss(), embedding.center_dist_penalty, .0,\n",
    "    model_path\n",
    ")"
   ]
  },
  {
   "cell_type": "code",
   "execution_count": null,
   "id": "61c4adc7-5955-49c4-9a2b-0e2e2775c522",
   "metadata": {},
   "outputs": [],
   "source": [
    "torch.save(model.state_dict(), model_path)"
   ]
  },
  {
   "cell_type": "code",
   "execution_count": null,
   "id": "7478f6ec-0395-436c-8013-4db6d2c35cdf",
   "metadata": {},
   "outputs": [],
   "source": [
    "model.load_state_dict(torch.load(model_path))\n",
    "model = model.eval()"
   ]
  },
  {
   "cell_type": "code",
   "execution_count": null,
   "id": "bb0e47a2-878f-437f-badf-e56b5b3807e3",
   "metadata": {},
   "outputs": [],
   "source": [
    "all_words = data.read_words(data_dir / 'voc.txt')\n",
    "max(map(len, all_words))"
   ]
  },
  {
   "cell_type": "code",
   "execution_count": null,
   "id": "795c296d-1fff-458f-bf9f-2a80749dd3ed",
   "metadata": {},
   "outputs": [],
   "source": [
    "grid_word_embeddings = embedding.calculate_word_embeddings(model, all_words, keyboard_grids, preprocessor, 5000)"
   ]
  },
  {
   "cell_type": "code",
   "execution_count": null,
   "id": "ffe6a7df-dbc1-4053-b073-68a6816a4c78",
   "metadata": {},
   "outputs": [],
   "source": [
    "np.savez(embeddings_dir / f'{model_name}.npz', **grid_word_embeddings)"
   ]
  },
  {
   "cell_type": "code",
   "execution_count": null,
   "id": "db32b10d-63ca-4c47-9c64-f40a518e2018",
   "metadata": {},
   "outputs": [],
   "source": [
    "model = model.cpu()"
   ]
  },
  {
   "cell_type": "code",
   "execution_count": null,
   "id": "8f8b469c-ca37-40fc-89c1-c5516c1755cb",
   "metadata": {},
   "outputs": [],
   "source": [
    "model = embedding.LSTMEmbedder()\n",
    "model.load_state_dict(torch.load('models/emb_lstm_v0.pt'))\n",
    "grid_word_embeddings = np.load('voc_embeddings/emb_lstm_v0.npz')"
   ]
  },
  {
   "cell_type": "code",
   "execution_count": null,
   "id": "d7994d8f-b8e5-4ce7-aac3-6c6f03e02a47",
   "metadata": {},
   "outputs": [],
   "source": [
    "reload(data)\n",
    "reload(utils)\n",
    "reload(embedding)"
   ]
  },
  {
   "cell_type": "code",
   "execution_count": null,
   "id": "b82fb4b9-232b-42af-95e2-6a594dbbb3d9",
   "metadata": {},
   "outputs": [],
   "source": [
    "candidate_gen = embedding.EmbeddingCandidateGenerator(model, grid_word_embeddings, preprocessor, vocabulary, 500, 64, 8)"
   ]
  },
  {
   "cell_type": "code",
   "execution_count": null,
   "id": "52b77930-0316-4084-aa3c-9305232c9854",
   "metadata": {},
   "outputs": [],
   "source": [
    "candidate_gen.n_candidates = 1000"
   ]
  },
  {
   "cell_type": "code",
   "execution_count": null,
   "id": "e942ed60-996f-41ab-b70a-d3abeb5aa7cb",
   "metadata": {
    "scrolled": true,
    "tags": []
   },
   "outputs": [],
   "source": [
    "for i in itertools.islice(val_500_ds, 30):\n",
    "    cands = candidate_gen(i.trace)\n",
    "    cand_words = [c.word for c in cands]\n",
    "    print(i.word in cand_words, i.word)#, ','.join(cand_words))"
   ]
  },
  {
   "cell_type": "code",
   "execution_count": null,
   "id": "83b2f3ff-e837-4cee-b935-464a09790571",
   "metadata": {
    "scrolled": true,
    "tags": []
   },
   "outputs": [],
   "source": [
    "flags = []\n",
    "for i in itertools.islice(val_500_ds, 100):\n",
    "    cands = candidate_gen(i.trace)\n",
    "    cand_words = [c.word for c in cands]\n",
    "    flags.append(i.word in cand_words)\n",
    "    # print(i.word in cand_words, i.word, ','.join(cand_words))\n",
    "np.mean(flags)"
   ]
  },
  {
   "cell_type": "code",
   "execution_count": null,
   "id": "bcbfc2fe-005f-4338-a31e-b70f5dc3f4a1",
   "metadata": {},
   "outputs": [],
   "source": [
    "def default_emedding(word):\n",
    "    return grid_word_embeddings['default'][vocabulary.words.index(word)]"
   ]
  },
  {
   "cell_type": "code",
   "execution_count": null,
   "id": "a8e2fda4-5378-455a-bdc3-2ff7b7518a72",
   "metadata": {},
   "outputs": [],
   "source": [
    "np.linalg.norm(default_emedding('побег') - default_emedding('пробег'))"
   ]
  }
 ],
 "metadata": {
  "kernelspec": {
   "display_name": "Python 3 (ipykernel)",
   "language": "python",
   "name": "python3"
  },
  "language_info": {
   "codemirror_mode": {
    "name": "ipython",
    "version": 3
   },
   "file_extension": ".py",
   "mimetype": "text/x-python",
   "name": "python",
   "nbconvert_exporter": "python",
   "pygments_lexer": "ipython3",
   "version": "3.10.9"
  }
 },
 "nbformat": 4,
 "nbformat_minor": 5
}
