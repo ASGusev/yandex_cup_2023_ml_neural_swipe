{
 "cells": [
  {
   "cell_type": "code",
   "execution_count": null,
   "id": "2ab76c1a-4a8f-44e2-a8c1-5d62f9f1b3fb",
   "metadata": {},
   "outputs": [],
   "source": [
    "%cd .."
   ]
  },
  {
   "cell_type": "code",
   "execution_count": null,
   "id": "2de25f00-89b0-41e2-9e5c-ada43ea7d6ae",
   "metadata": {},
   "outputs": [],
   "source": [
    "import sys\n",
    "\n",
    "sys.path.append('src')"
   ]
  },
  {
   "cell_type": "code",
   "execution_count": null,
   "id": "b4523540-bd42-4811-9ba4-2dfc0c051e79",
   "metadata": {},
   "outputs": [],
   "source": [
    "from importlib import reload\n",
    "from multiprocessing import Pool\n",
    "from pathlib import Path\n",
    "from concurrent.futures import ProcessPoolExecutor\n",
    "\n",
    "import numpy as np\n",
    "from tqdm.auto import tqdm\n",
    "\n",
    "import utils\n",
    "import data\n",
    "import predictors\n",
    "import metrics"
   ]
  },
  {
   "cell_type": "code",
   "execution_count": null,
   "id": "4f1d0084-6c5b-4c86-b116-3cea36044e12",
   "metadata": {},
   "outputs": [],
   "source": [
    "reload(data)\n",
    "reload(utils)\n",
    "reload(predictors)"
   ]
  },
  {
   "cell_type": "code",
   "execution_count": null,
   "id": "9c1f4c4a-1a69-42ec-9a1f-7fa797609859",
   "metadata": {},
   "outputs": [],
   "source": [
    "%%time\n",
    "vocabulary = utils.Vocabulary.load(Path('vocabulary.csv'))\n",
    "grids = utils.load_grids('grids.json')\n",
    "# candidate_generator = predictors.FirstLetterCandidateGenerator(vocabulary, grids)\n",
    "candidate_generator = predictors.FirstLetterLengthCandidateGenerator(vocabulary, grids)\n",
    "ranker = predictors.InterpolatedDTWRanker(100.)\n",
    "predictor = predictors.Predictor(candidate_generator, ranker)"
   ]
  },
  {
   "cell_type": "code",
   "execution_count": null,
   "id": "040296b7-3614-48af-9f0a-8bae3b23e4a5",
   "metadata": {},
   "outputs": [],
   "source": [
    "reader = data.TracesReader('data/valid_500.txt')\n",
    "x = list(reader)\n",
    "y = data.read_words(Path('data/valid_500.ref'))"
   ]
  },
  {
   "cell_type": "code",
   "execution_count": null,
   "id": "c2168c76-6b95-4e99-9c57-ab3eb02ba375",
   "metadata": {},
   "outputs": [],
   "source": [
    "reader = data.TracesReader('data/test.txt')\n",
    "x = list(reader)"
   ]
  },
  {
   "cell_type": "code",
   "execution_count": null,
   "id": "3c8050f0-f9e7-4905-8dfd-f955b487ad47",
   "metadata": {},
   "outputs": [],
   "source": [
    "%%time\n",
    "with ProcessPoolExecutor(8) as executor:\n",
    "    res = list(tqdm(executor.map(predictor, x), total=len(x)))\n",
    "    # list((pool.map(predictor, (reader))))"
   ]
  },
  {
   "cell_type": "code",
   "execution_count": null,
   "id": "cab8087d-b001-450b-92c5-fd83a2e325d8",
   "metadata": {
    "tags": []
   },
   "outputs": [],
   "source": [
    "%%time\n",
    "list(tqdm(map(predictor, x), total=len(x)))"
   ]
  },
  {
   "cell_type": "code",
   "execution_count": null,
   "id": "838ed2d8-00a9-4748-89c8-389abe8b4f5c",
   "metadata": {},
   "outputs": [],
   "source": [
    "%%time\n",
    "with Pool(8) as executor:\n",
    "    res = list(tqdm(executor.map(predictor, x), total=len(x)))\n",
    "    # list((pool.map(predictor, (reader))))"
   ]
  },
  {
   "cell_type": "code",
   "execution_count": null,
   "id": "1af325cb-8854-4609-848f-9d677dd1b813",
   "metadata": {},
   "outputs": [],
   "source": [
    "metrics.mrr_iterables(res, y)"
   ]
  },
  {
   "cell_type": "code",
   "execution_count": null,
   "id": "49848599-5102-4f94-bb39-77e1d5c6ebde",
   "metadata": {},
   "outputs": [],
   "source": [
    "data.save_results('result/test_interp_100.csv', res)"
   ]
  }
 ],
 "metadata": {
  "kernelspec": {
   "display_name": "Python 3 (ipykernel)",
   "language": "python",
   "name": "python3"
  },
  "language_info": {
   "codemirror_mode": {
    "name": "ipython",
    "version": 3
   },
   "file_extension": ".py",
   "mimetype": "text/x-python",
   "name": "python",
   "nbconvert_exporter": "python",
   "pygments_lexer": "ipython3",
   "version": "3.10.9"
  }
 },
 "nbformat": 4,
 "nbformat_minor": 5
}
