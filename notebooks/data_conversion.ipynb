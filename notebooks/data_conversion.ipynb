{
 "cells": [
  {
   "cell_type": "code",
   "execution_count": null,
   "id": "3e882a65-42da-4ad3-b382-454db1745ef0",
   "metadata": {},
   "outputs": [],
   "source": [
    "%cd .."
   ]
  },
  {
   "cell_type": "code",
   "execution_count": 2,
   "id": "05de9aeb-256d-4fe5-b466-6cbe84e11330",
   "metadata": {},
   "outputs": [],
   "source": [
    "import sys\n",
    "\n",
    "sys.path.append('src')"
   ]
  },
  {
   "cell_type": "code",
   "execution_count": 11,
   "id": "5a786e2a-1a21-41ea-ac4d-f996c2cda93c",
   "metadata": {},
   "outputs": [],
   "source": [
    "import json\n",
    "from pathlib import Path\n",
    "from itertools import chain\n",
    "\n",
    "import numpy as np\n",
    "from tqdm.auto import tqdm\n",
    "\n",
    "import data"
   ]
  },
  {
   "cell_type": "code",
   "execution_count": 4,
   "id": "581f93ab-c954-428d-8e55-1f16dff5ec4b",
   "metadata": {},
   "outputs": [
    {
     "name": "stdout",
     "output_type": "stream",
     "text": [
      "total 22G\n",
      "-rw-rw-r-- 1 andy andy 5,7K окт 25 22:35 grids.json\n",
      "-rw-rw-r-- 1 andy andy  28M окт 17 17:54 test.jsonl\n",
      "-rw-rw-r-- 1 andy andy 2,8M ноя  1 21:58 test.npz\n",
      "-rw-rw-r-- 1 andy andy 5,4M окт 26 22:17 test.txt\n",
      "-rw-rw-r-- 1 andy andy  17G окт 17 17:54 train.jsonl\n",
      "-rw-rw-r-- 1 andy andy 1,7G ноя  1 22:08 train.npz\n",
      "-rw-rw-r-- 1 andy andy  61M окт 26 21:29 train.ref\n",
      "-rw-rw-r-- 1 andy andy 3,2G окт 26 22:26 train.txt\n",
      "-rw-rw-r-- 1 andy andy 1,5M окт 26 21:24 valid_500.jsonl\n",
      "-rw-rw-r-- 1 andy andy 150K ноя  1 21:57 valid_500.npz\n",
      "-rw-rw-r-- 1 andy andy 5,2K окт 26 21:24 valid_500.ref\n",
      "-rw-rw-r-- 1 andy andy 290K окт 26 22:18 valid_500.txt\n",
      "-rw-rw-r-- 1 andy andy  28M окт 17 17:54 valid.jsonl\n",
      "-rw-rw-r-- 1 andy andy 2,8M ноя  1 21:57 valid.npz\n",
      "-rw-rw-r-- 1 andy andy 104K окт 17 17:54 valid.ref\n",
      "-rw-rw-r-- 1 andy andy 5,5M окт 26 22:17 valid.txt\n",
      "-rw-rw-r-- 1 andy andy  11M ноя  1 23:45 vocabulary.csv\n",
      "-rw-rw-r-- 1 andy andy 9,5M окт 17 17:53 voc.txt\n"
     ]
    }
   ],
   "source": [
    "%ls -lh data"
   ]
  },
  {
   "cell_type": "code",
   "execution_count": 6,
   "id": "db2411d3-6d01-4d8b-a8e7-4018fe62520e",
   "metadata": {},
   "outputs": [],
   "source": [
    "in_path = 'data/train.jsonl'\n",
    "out_path = 'data/train.txt'\n",
    "out_words_path = 'data/train.ref'"
   ]
  },
  {
   "cell_type": "code",
   "execution_count": 14,
   "id": "74d41ed7-5985-4ac6-9c66-d3df9a135298",
   "metadata": {},
   "outputs": [],
   "source": [
    "with open(in_path) as in_file, open(out_path, 'wt') as out_file:\n",
    "    for line in in_file:\n",
    "        d = json.loads(line)\n",
    "        line_data = [\n",
    "            d['curve']['grid']['grid_name'], \n",
    "            *map(\n",
    "                str, \n",
    "                chain(d['curve']['x'], d['curve']['y'], d['curve']['t'])\n",
    "            )\n",
    "        ]\n",
    "        out_file.write(' '.join(line_data) + '\\n')"
   ]
  },
  {
   "cell_type": "code",
   "execution_count": 9,
   "id": "af62f87b-db4e-43cd-b2e7-b3b0ffead41d",
   "metadata": {},
   "outputs": [],
   "source": [
    "def convert_to_bin_ds(in_path, out_path):\n",
    "    coordinates, times, extra_flags, lens, words = [], [], [], [], []\n",
    "    with open(in_path) as in_file:\n",
    "        for line in tqdm(in_file):\n",
    "            d = json.loads(line)\n",
    "            t = d['curve']['t']\n",
    "            if any(pt > nt for pt, nt in zip(t[:-1], t[1:])):\n",
    "                continue\n",
    "            words.append(d['word'])\n",
    "            continue\n",
    "            lens.append(len(t))\n",
    "            extra_flags.append(d['curve']['grid']['grid_name'] == 'extra')\n",
    "            coordinates.append(np.stack((\n",
    "                np.int16(d['curve']['x']),\n",
    "                np.int16(d['curve']['y']),\n",
    "            )).T)\n",
    "            times.append(np.int16(t))\n",
    "    return words\n",
    "    np.savez(\n",
    "        out_path,\n",
    "        coordinates=np.concatenate(coordinates),\n",
    "        times=np.concatenate(times),\n",
    "        extra_grid=np.array(extra_flags, bool),\n",
    "        lens=np.array(lens),\n",
    "    )"
   ]
  },
  {
   "cell_type": "code",
   "execution_count": 12,
   "id": "de6f0c32-369f-4ce5-bdcc-b1d84a58e70e",
   "metadata": {},
   "outputs": [
    {
     "data": {
      "application/vnd.jupyter.widget-view+json": {
       "model_id": "74bc21f1c21f409ca799afe47ce3ef94",
       "version_major": 2,
       "version_minor": 0
      },
      "text/plain": [
       "0it [00:00, ?it/s]"
      ]
     },
     "metadata": {},
     "output_type": "display_data"
    }
   ],
   "source": [
    "valid_words = convert_to_bin_ds('data/train.jsonl', 'data/train.npz')"
   ]
  },
  {
   "cell_type": "code",
   "execution_count": 15,
   "id": "7132e2b1-7cfc-4d25-97be-a21fe3ef7966",
   "metadata": {},
   "outputs": [
    {
     "data": {
      "text/plain": [
       "5999974"
      ]
     },
     "execution_count": 15,
     "metadata": {},
     "output_type": "execute_result"
    }
   ],
   "source": [
    "len(valid_words)"
   ]
  },
  {
   "cell_type": "code",
   "execution_count": 16,
   "id": "0dc9db78-f031-4fa3-a609-5257ae72ab32",
   "metadata": {},
   "outputs": [],
   "source": [
    "with open(out_words_path, 'wt') as f:\n",
    "    f.write('\\n'.join(valid_words))"
   ]
  },
  {
   "cell_type": "code",
   "execution_count": 5,
   "id": "a077240f-38ad-4a7b-801a-d446e3b7f5d0",
   "metadata": {},
   "outputs": [],
   "source": [
    "train_ds = data.BinaryDataset.load(Path('data/train.npz'))"
   ]
  }
 ],
 "metadata": {
  "kernelspec": {
   "display_name": "Python 3 (ipykernel)",
   "language": "python",
   "name": "python3"
  },
  "language_info": {
   "codemirror_mode": {
    "name": "ipython",
    "version": 3
   },
   "file_extension": ".py",
   "mimetype": "text/x-python",
   "name": "python",
   "nbconvert_exporter": "python",
   "pygments_lexer": "ipython3",
   "version": "3.10.9"
  }
 },
 "nbformat": 4,
 "nbformat_minor": 5
}
