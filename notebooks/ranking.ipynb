{
 "cells": [
  {
   "cell_type": "code",
   "execution_count": null,
   "id": "baa744a0-eeec-4e3a-ac1b-c682ebc92647",
   "metadata": {},
   "outputs": [],
   "source": [
    "%cd .."
   ]
  },
  {
   "cell_type": "code",
   "execution_count": null,
   "id": "97c5deb2-e88c-4ef7-becb-5423a86338ec",
   "metadata": {},
   "outputs": [],
   "source": [
    "import sys\n",
    "\n",
    "sys.path.extend(('src', 'lib'))"
   ]
  },
  {
   "cell_type": "code",
   "execution_count": null,
   "id": "3a10d744-f953-4fa4-9df6-0856fc89c0eb",
   "metadata": {},
   "outputs": [],
   "source": [
    "from pathlib import Path\n",
    "from importlib import reload\n",
    "from typing import Callable\n",
    "import csv\n",
    "import math\n",
    "import itertools\n",
    "import random\n",
    "\n",
    "import numpy as np\n",
    "import pandas as pd\n",
    "import torch\n",
    "from tqdm.auto import tqdm\n",
    "import voyager\n",
    "import cv2\n",
    "from matplotlib import pyplot as plt\n",
    "from pytorch_metric_learning import losses\n",
    "from tslearn.metrics import dtw\n",
    "from sklearn.model_selection import train_test_split\n",
    "from catboost import CatBoostClassifier, CatBoostRanker, Pool\n",
    "\n",
    "import data\n",
    "import utils\n",
    "import prediction\n",
    "import metrics\n",
    "import features\n",
    "import embeddings"
   ]
  },
  {
   "cell_type": "code",
   "execution_count": null,
   "id": "9dfc803a-db95-4a64-8e69-6b202b1ecf0c",
   "metadata": {},
   "outputs": [],
   "source": [
    "data_dir = Path('data')\n",
    "models_dir = Path('models')\n",
    "embeddings_dir = Path('voc_embeddings')"
   ]
  },
  {
   "cell_type": "code",
   "execution_count": null,
   "id": "4f5c420c-a06a-40a4-8931-5a3696f702fb",
   "metadata": {},
   "outputs": [],
   "source": [
    "train_ds = data.Dataset(\n",
    "    data.BinaryDataset.load('data/train.npz'),\n",
    "    data.read_words(data_dir / 'train.ref'),\n",
    ")\n",
    "val_ds = data.Dataset(\n",
    "    data.BinaryDataset.load('data/valid.npz'),\n",
    "    data.read_words(data_dir / 'valid.ref'),\n",
    ")\n",
    "val_500_ds = data.Dataset(\n",
    "    data.BinaryDataset.load(data_dir / 'valid_500.npz'),\n",
    "    data.read_words(data_dir / 'valid_500.ref'),\n",
    ")\n",
    "\n",
    "vocabulary = utils.Vocabulary.load(data_dir / 'vocabulary.csv')\n",
    "keyboard_grids = utils.load_grids(data_dir / 'grids.json')"
   ]
  },
  {
   "cell_type": "code",
   "execution_count": null,
   "id": "9a10711c-f2d2-41b9-805b-ee0553e0b1f7",
   "metadata": {},
   "outputs": [],
   "source": [
    "def calc_candidates_recall(candidates_generator, ds):\n",
    "    found_flags = []\n",
    "    for batch in utils.batch_iterable(ds, 500):\n",
    "        batch_candidates = candidates_generator([s.trace for s in batch])\n",
    "        found_flags.extend([\n",
    "            any(s.word == c.word for c in cs)\n",
    "            for s, cs in zip(batch, batch_candidates)\n",
    "        ])\n",
    "    return np.mean(found_flags)"
   ]
  },
  {
   "cell_type": "code",
   "execution_count": null,
   "id": "3a66cd76-3a20-4928-8878-8879eab41562",
   "metadata": {},
   "outputs": [],
   "source": [
    "img_preprocessor = embeddings.data.ImgPreprocessor(keyboard_grids, vocabulary)\n",
    "seq_preprocessor = embeddings.data.SeqPreprocessor(keyboard_grids, vocabulary)"
   ]
  },
  {
   "cell_type": "code",
   "execution_count": null,
   "id": "54ada5a2-8617-44ad-b7bb-5b7cf2b41bc1",
   "metadata": {},
   "outputs": [],
   "source": [
    "%ls models"
   ]
  },
  {
   "cell_type": "code",
   "execution_count": null,
   "id": "1b03dad9-5d0c-41cb-b9c4-150226fa9241",
   "metadata": {},
   "outputs": [],
   "source": [
    "# mlp_modle_name = 'emb_mlp_v3_triplet_100'\n",
    "mlp_model_name = 'emb_mlp_v4_best'\n",
    "mlp_model = embeddings.models.MLPImgEmbedder().cuda()\n",
    "mlp_model.load_state_dict(torch.load(models_dir / f'{mlp_model_name}.pt'))\n",
    "mlp_embs = dict(np.load(embeddings_dir / f'{mlp_model_name}.npz'))"
   ]
  },
  {
   "cell_type": "code",
   "execution_count": null,
   "id": "e352c483-b333-4ff9-b9c8-b74ab009a206",
   "metadata": {},
   "outputs": [],
   "source": [
    "cnn_model_name = 'emb_cnn_v0_best'\n",
    "cnn_model = embeddings.models.ConvImgEmbedder().cuda()\n",
    "cnn_model.load_state_dict(torch.load(models_dir / f'{cnn_model_name}.pt'))\n",
    "cnn_embs = dict(np.load(embeddings_dir / f'{cnn_model_name}.npz'))"
   ]
  },
  {
   "cell_type": "code",
   "execution_count": null,
   "id": "07976e21-889c-4e48-bcf2-cf6a48b2cc7a",
   "metadata": {},
   "outputs": [],
   "source": [
    "lstm_model_name = 'emb_rnn_v0_best'\n",
    "lstm_model = embeddings.models.LSTMEmbedder().cuda().eval()\n",
    "lstm_model.load_state_dict(torch.load(models_dir / f'{lstm_model_name}.pt'))\n",
    "lstm_embs = dict(np.load(embeddings_dir / f'{lstm_model_name}.npz'))"
   ]
  },
  {
   "cell_type": "code",
   "execution_count": null,
   "id": "fd33e1ea-68d4-4cb9-ae71-8c56c4889fe3",
   "metadata": {},
   "outputs": [],
   "source": [
    "%%time\n",
    "# cnn_candidate_gen = embedding.EmbeddingCandidateGenerator(cnn_model, cnn_embs, img_preprocessor, vocabulary, keyboard_grids, 2000, 64, 7)\n",
    "cnn_candidate_gen = embeddings.utils.FAISSEmbeddingCandidateGenerator(cnn_model, cnn_embs, img_preprocessor, vocabulary, keyboard_grids, 2000, 64, 6)\n",
    "# calc_candidates_recall(cnn_candidate_gen, val_ds[:1000])"
   ]
  },
  {
   "cell_type": "code",
   "execution_count": null,
   "id": "39c0d9c8-8f90-45e3-a5ac-7107996a8850",
   "metadata": {},
   "outputs": [],
   "source": [
    "class MergingCandidateGenerator:\n",
    "    def __init__(self, generators: list[Callable[[list[utils.Trace]], list[list[utils.Candidate]]]]):\n",
    "        self.generators = generators\n",
    "    \n",
    "    def __call__(self, traces: list[utils.Trace]) -> list[list[utils.Candidate]]:\n",
    "        generator_candidates = [g(traces) for g in self.generators]\n",
    "        return [list(itertools.chain.from_iterable(gcs)) for gcs in zip(*generator_candidates)]"
   ]
  },
  {
   "cell_type": "code",
   "execution_count": null,
   "id": "4e6376fa-08fa-4c37-b5de-9ffcf7d7c6a2",
   "metadata": {},
   "outputs": [],
   "source": [
    "features_extractor = predictors.FeaturesExtractor({\n",
    "    'popularity': predictors.PopularityCalculator(vocabulary),\n",
    "    'interpolated_dtw': predictors.InterpolatedDTWCalculator(100),\n",
    "    'target_length': predictors.target_trace_length,\n",
    "    'candidate_length': predictors.candidate_trace_length,\n",
    "    'mlp_dist': embedding.EmbeddingDistCalculator(img_preprocessor, mlp_model, mlp_embs, vocabulary),\n",
    "    'cnn_dist': embedding.EmbeddingDistCalculator(img_preprocessor, cnn_model, cnn_embs, vocabulary),\n",
    "})"
   ]
  },
  {
   "cell_type": "code",
   "execution_count": null,
   "id": "a638e27b-c6d6-46c7-9ab1-952eb04fe9ab",
   "metadata": {},
   "outputs": [],
   "source": [
    "ranker_ds_size = 10_000\n",
    "ds_start_offset = 5_000_000\n",
    "ranker_x, ranker_y = predictors.make_scorer_ds(\n",
    "    tqdm(itertools.islice(train_ds, ds_start_offset, ds_start_offset + ranker_ds_size), total=ranker_ds_size), \n",
    "    cnn_candidate_gen, \n",
    "    features_extractor, \n",
    "    keyboard_grids,\n",
    "    # random.choice,\n",
    "    predictors.ExpSampler(.001),\n",
    "    batch_size=1000,\n",
    ")\n",
    "ranker_train_x, ranker_val_x, ranker_train_y, ranker_val_y = train_test_split(ranker_x, ranker_y)"
   ]
  },
  {
   "cell_type": "code",
   "execution_count": null,
   "id": "dc5d4d5f-2fae-4a6a-8be6-4281b462f4a9",
   "metadata": {},
   "outputs": [],
   "source": [
    "features_extractor_np = predictors.FeaturesExtractorNP([\n",
    "    predictors.PopularityCalculator(vocabulary),\n",
    "    predictors.InterpolatedDTWCalculator(100),\n",
    "    predictors.target_trace_length,\n",
    "    predictors.candidate_trace_length,\n",
    "    predictors.trace_length_diff,\n",
    "    predictors.trace_length_ratio,\n",
    "    predictors.keyboard_grid,\n",
    "    embedding.EmbeddingDistCalculator(img_preprocessor, mlp_model, mlp_embs, vocabulary),\n",
    "    embedding.EmbeddingDistCalculator(img_preprocessor, cnn_model, cnn_embs, vocabulary),\n",
    "    embedding.EmbeddingDistCalculator(seq_preprocessor, lstm_model, lstm_embs, vocabulary),\n",
    "])"
   ]
  },
  {
   "cell_type": "code",
   "execution_count": null,
   "id": "0347e309-16d8-4957-a9f2-3916000870b2",
   "metadata": {},
   "outputs": [],
   "source": [
    "np.random.seed(42)\n",
    "random.seed(42)\n",
    "ranker_ds_size = 100#_000\n",
    "ds_start_offset = 5_000_000\n",
    "ranker_ds = train_ds[ds_start_offset:ds_start_offset + ranker_ds_size]\n",
    "ranker_train_ds, ranker_val_ds = train_test_split(ranker_ds)\n",
    "sampler = prediction.ExpSampler(.001)\n",
    "ranker_train_features, ranker_train_labels, ranker_train_groups, ranker_train_pairs = prediction.make_ranking_ds(\n",
    "    tqdm(ranker_train_ds), cnn_candidate_gen, features_extractor_np, keyboard_grids, sampler, 5, 1000\n",
    ")\n",
    "ranker_val_features, ranker_val_labels, ranker_val_groups, ranker_val_pairs = predictionfeatures.InterpolatedDTWCalculator(100).make_ranking_ds(\n",
    "    tqdm(ranker_val_ds), cnn_candidate_gen, features_extractor_np, keyboard_grids, sampler, 5, 1000\n",
    ")"
   ]
  },
  {
   "cell_type": "code",
   "execution_count": null,
   "id": "ef756025-4232-4aaa-a42f-61f0c1570850",
   "metadata": {},
   "outputs": [],
   "source": [
    "trace_features_extractor = prediction.FeaturesExtractorNP([\n",
    "    features.target_trace_length,\n",
    "    features.keyboard_grid,\n",
    "])\n",
    "candidates_features_extractor = prediction.FeaturesExtractorNP([\n",
    "    features.PopularityCalculator(vocabulary),\n",
    "    features.InterpolatedDTWCalculator(100),\n",
    "    features.candidate_trace_length,\n",
    "    features.trace_length_diff,\n",
    "    features.trace_length_ratio,\n",
    "    embeddings.utils.EmbeddingDistCalculator(img_preprocessor, mlp_model, mlp_embs, vocabulary),\n",
    "    embeddings.utils.EmbeddingDistCalculator(img_preprocessor, cnn_model, cnn_embs, vocabulary),\n",
    "    embeddings.utils.EmbeddingDistCalculator(seq_preprocessor, lstm_model, lstm_embs, vocabulary),\n",
    "])"
   ]
  },
  {
   "cell_type": "code",
   "execution_count": null,
   "id": "096137e5-0c91-44b4-8ce0-3a3221908f4f",
   "metadata": {},
   "outputs": [],
   "source": [
    "%%time\n",
    "np.random.seed(42)\n",
    "random.seed(42)\n",
    "ranker_ds_size = 200_000\n",
    "ds_start_offset = 5_000_000\n",
    "ranker_ds = train_ds[ds_start_offset:ds_start_offset + ranker_ds_size]\n",
    "ranker_train_ds, ranker_val_ds = train_test_split(ranker_ds)\n",
    "sampler = prediction.ExpSampler(.001)\n",
    "pair_train_features, pair_train_labels = prediction.make_pairs_ds(\n",
    "    tqdm(ranker_train_ds), cnn_candidate_gen, trace_features_extractor, candidates_features_extractor, sampler, 20, 500\n",
    ")\n",
    "pair_val_features, pair_val_labels = prediction.make_pairs_ds(\n",
    "    tqdm(ranker_val_ds), cnn_candidate_gen, trace_features_extractor, candidates_features_extractor, sampler, 20, 500\n",
    ")"
   ]
  },
  {
   "cell_type": "code",
   "execution_count": null,
   "id": "ea799820-4a66-43d5-a6a3-bd782939cead",
   "metadata": {},
   "outputs": [],
   "source": [
    "np.savez('pairs_v0.npz', \n",
    "    pair_train_features=pair_train_features,\n",
    "    pair_train_labels=pair_train_labels,\n",
    "    pair_val_features=pair_val_features,\n",
    "    pair_val_labels=pair_val_labels,\n",
    ")"
   ]
  },
  {
   "cell_type": "code",
   "execution_count": null,
   "id": "ed678565-a9bf-4e71-a5cc-15caff2bebc4",
   "metadata": {
    "scrolled": true,
    "tags": []
   },
   "outputs": [],
   "source": [
    "import torch\n",
    "from pytorch_tabnet.tab_model import TabNetClassifier\n",
    "\n",
    "clf = TabNetClassifier(\n",
    "    n_d=64, n_steps=2, seed=42, \n",
    "    device_name='cuda', optimizer_params={'lr': 5e-2}, \n",
    "    scheduler_fn=torch.optim.lr_scheduler.StepLR, scheduler_params={'gamma':.5, 'step_size':5},\n",
    ")\n",
    "clf.fit(pair_train_features, pair_train_labels, eval_set=[(pair_val_features, pair_val_labels)], patience=10, batch_size=32768)"
   ]
  },
  {
   "cell_type": "code",
   "execution_count": null,
   "id": "78f0fb5d-b3f9-43e3-82c0-9e1b8432f06b",
   "metadata": {},
   "outputs": [],
   "source": [
    "ranker = prediction.PairwiseRanker(clf.predict, trace_features_extractor, candidates_features_extractor)"
   ]
  },
  {
   "cell_type": "code",
   "execution_count": null,
   "id": "cdcd717e-535d-4e30-83ac-d0dc862689e0",
   "metadata": {
    "scrolled": true,
    "tags": []
   },
   "outputs": [],
   "source": [
    "clf = CatBoostClassifier(\n",
    "    loss_function='CrossEntropy', eval_metric='AUC', \n",
    "    depth=12, n_estimators=2000, od_type='Iter', od_wait=200,\n",
    "    random_state=42,\n",
    ")\n",
    "clf.fit(pair_train_features, pair_train_labels, eval_set=(pair_val_features, pair_val_labels))\n",
    "ranker = prediction.PairwiseRanker(clf.predict, trace_features_extractor, candidates_features_extractor)"
   ]
  },
  {
   "cell_type": "code",
   "execution_count": null,
   "id": "9ed4ed9a-590b-4e5d-83dd-7180ad191041",
   "metadata": {
    "scrolled": true,
    "tags": []
   },
   "outputs": [],
   "source": [
    "clf = CatBoostClassifier(eval_metric='Accuracy', depth=6, n_estimators=2000)\n",
    "clf.fit(ranker_train_x, ranker_train_y, eval_set=(ranker_val_x, ranker_val_y))\n",
    "ranker = predictors.ScoringRanker(lambda x: clf.predict_proba(x)[:, 0], features_extractor)"
   ]
  },
  {
   "cell_type": "code",
   "execution_count": null,
   "id": "3495d566-e45e-4d29-8071-0083ae61d1a0",
   "metadata": {
    "scrolled": true,
    "tags": []
   },
   "outputs": [],
   "source": [
    "clf = CatBoostClassifier(eval_metric='Accuracy', depth=6, n_estimators=1000)\n",
    "clf.fit(ranker_x, ranker_y)\n",
    "ranker = predictors.ScoringRanker(lambda x: clf.predict_proba(x)[:, 0], features_extractor)"
   ]
  },
  {
   "cell_type": "code",
   "execution_count": null,
   "id": "6597c960-aefc-479e-84c3-6e5323cfb4d0",
   "metadata": {
    "scrolled": true,
    "tags": []
   },
   "outputs": [],
   "source": [
    "%%time\n",
    "clf = CatBoostRanker(\n",
    "    depth=4, n_estimators=2000, loss_function='QuerySoftMax', \n",
    "    od_type='Iter', od_wait=100,\n",
    "    learning_rate=.2, task_type='GPU',\n",
    "    random_seed=42\n",
    ")\n",
    "clf.fit(\n",
    "    ranker_train_features, ranker_train_labels,\n",
    "    pairs=None, group_id=ranker_train_groups,\n",
    "    eval_set=Pool(ranker_val_features, ranker_val_labels, pairs=ranker_val_pairs, group_id=ranker_val_groups),\n",
    ")\n",
    "# ranker = predictors.ScoringRanker(lambda x: -clf.predict(x.reshape(x.shape[0] * x.shape[1], x.shape[2])), features_extractor_np)"
   ]
  },
  {
   "cell_type": "code",
   "execution_count": null,
   "id": "7f17f3cb-7e5a-45fb-b3b2-2ecba72760cb",
   "metadata": {
    "scrolled": true,
    "tags": []
   },
   "outputs": [],
   "source": [
    "def _ranker_func(x):\n",
    "    # print(x.shape)\n",
    "    ranks = np.arange(len(x)).reshape((-1, 1)) % 2000\n",
    "    return -clf.predict(np.concatenate((x, ranks), axis=1))\n",
    "ranker = predictors.ScoringRanker(_ranker_func, features_extractor_np)"
   ]
  },
  {
   "cell_type": "code",
   "execution_count": null,
   "id": "60e7b34f-76f7-49fb-a22b-d72bb8e36d67",
   "metadata": {
    "tags": []
   },
   "outputs": [],
   "source": [
    "%%time\n",
    "predictor = prediction.Predictor(cnn_candidate_gen, ranker, 200)\n",
    "res = predictor(tqdm([s.trace for s in itertools.islice(val_ds, 1000)]))\n",
    "metrics.mrr_iterables(res, val_ds.words[:1000])"
   ]
  },
  {
   "cell_type": "code",
   "execution_count": null,
   "id": "48cc585f-f109-4eae-b40c-141542223cad",
   "metadata": {},
   "outputs": [],
   "source": [
    "test_ds = data.BinaryDataset.load(data_dir / 'test.npz')"
   ]
  },
  {
   "cell_type": "code",
   "execution_count": null,
   "id": "58023780-40f4-4fd1-8928-936bc49b5e92",
   "metadata": {},
   "outputs": [],
   "source": [
    "res = predictor(tqdm(test_ds))\n",
    "data.save_results('result/test_emb_pw_tabnet.csv', res)"
   ]
  },
  {
   "cell_type": "code",
   "execution_count": null,
   "id": "1f18d7e0-90cb-48db-9b12-fdee09099ddd",
   "metadata": {
    "scrolled": true,
    "tags": []
   },
   "outputs": [],
   "source": [
    "%%time\n",
    "# predictor = predictors.Predictor(cnn_candidate_gen, ranker, 2000)\n",
    "res = predictor(tqdm([s.trace for s in val_ds]))\n",
    "metrics.mrr_iterables(res, val_ds.words)"
   ]
  }
 ],
 "metadata": {
  "kernelspec": {
   "display_name": "Python 3 (ipykernel)",
   "language": "python",
   "name": "python3"
  },
  "language_info": {
   "codemirror_mode": {
    "name": "ipython",
    "version": 3
   },
   "file_extension": ".py",
   "mimetype": "text/x-python",
   "name": "python",
   "nbconvert_exporter": "python",
   "pygments_lexer": "ipython3",
   "version": "3.10.9"
  }
 },
 "nbformat": 4,
 "nbformat_minor": 5
}
